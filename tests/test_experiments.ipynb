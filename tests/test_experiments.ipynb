{
 "cells": [
  {
   "cell_type": "code",
   "execution_count": 1,
   "metadata": {},
   "outputs": [],
   "source": [
    "import torch\n",
    "import torch.nn as nn\n",
    "from torch.utils.data import Dataset, DataLoader\n",
    "from transformers import GPT2LMHeadModel, GPT2Tokenizer\n",
    "from datasets import load_dataset\n",
    "import numpy as np\n",
    "from tqdm import tqdm\n",
    "import matplotlib.pyplot as plt\n",
    "import warnings"
   ]
  },
  {
   "cell_type": "code",
   "execution_count": 2,
   "metadata": {},
   "outputs": [],
   "source": [
    "warnings.filterwarnings('ignore')\n",
    "\n",
    "# Set device and random seeds for reproducibility\n",
    "device = torch.device(\"cuda\" if torch.cuda.is_available() else \"cpu\")\n",
    "torch.manual_seed(42)\n",
    "np.random.seed(42)"
   ]
  },
  {
   "cell_type": "code",
   "execution_count": 3,
   "metadata": {},
   "outputs": [],
   "source": [
    "# Configuration\n",
    "class Config:\n",
    "    dataset_name = \"wikitext-2-raw-v1\"\n",
    "    model_name = \"distilgpt2\"\n",
    "    max_length = 128\n",
    "    num_workers = 8\n",
    "    pin_memory = True\n",
    "    min_text_length = 50  # Minimum characters for a text to be included\n",
    "\n",
    "config = Config()"
   ]
  },
  {
   "cell_type": "code",
   "execution_count": 4,
   "metadata": {},
   "outputs": [],
   "source": [
    "# Load and preprocess dataset\n",
    "def load_and_preprocess_data():\n",
    "    dataset = load_dataset(\"wikitext\", config.dataset_name)\n",
    "    \n",
    "    # Preprocessing function\n",
    "    def preprocess(examples):\n",
    "        texts = [text.strip() for text in examples[\"text\"] \n",
    "                if len(text.strip()) > config.min_text_length \n",
    "                and not text.strip().startswith(\"=\")]\n",
    "        return {\"text\": texts}\n",
    "    \n",
    "    dataset = dataset.map(preprocess, batched=True)\n",
    "    train_texts = dataset[\"train\"][\"text\"][:1000]\n",
    "    val_texts = dataset[\"validation\"][\"text\"][:100]\n",
    "    test_texts = dataset[\"test\"][\"text\"][:100]\n",
    "    \n",
    "    return train_texts, val_texts, test_texts"
   ]
  },
  {
   "cell_type": "code",
   "execution_count": 5,
   "metadata": {},
   "outputs": [],
   "source": [
    "# def load_and_preprocess_data():\n",
    "#     # Load TinyStories dataset (small subset for testing)\n",
    "#     dataset = load_dataset(\"roneneldan/TinyStories\", split=\"train[:5000]\")  # First 5K samples\n",
    "    \n",
    "#     # TinyStories doesn't have validation/test splits by default, so we split manually\n",
    "#     dataset = dataset.train_test_split(test_size=0.2, seed=42)  # 80% train, 20% test/val\n",
    "#     val_test_split = dataset[\"test\"].train_test_split(test_size=0.5, seed=42)\n",
    "    \n",
    "#     # Preprocessing function (simplified since TinyStories is already clean)\n",
    "#     def preprocess(examples):\n",
    "#         texts = [text.strip() for text in examples[\"text\"] \n",
    "#                 if len(text.strip()) > config.min_text_length]  # No need to filter headers (\"=\")\n",
    "#         return {\"text\": texts}\n",
    "    \n",
    "#     # Apply preprocessing\n",
    "#     train_dataset = dataset[\"train\"].map(preprocess, batched=True)\n",
    "#     val_dataset = val_test_split[\"train\"].map(preprocess, batched=True)  # Validation\n",
    "#     test_dataset = val_test_split[\"test\"].map(preprocess, batched=True)  # Test\n",
    "    \n",
    "#     # Extract texts\n",
    "#     train_texts = train_dataset[\"text\"]\n",
    "#     val_texts = val_dataset[\"text\"]\n",
    "#     test_texts = test_dataset[\"text\"]\n",
    "    \n",
    "#     return train_texts, val_texts, test_texts"
   ]
  },
  {
   "cell_type": "code",
   "execution_count": 6,
   "metadata": {},
   "outputs": [],
   "source": [
    "# Tokenizer setup\n",
    "tokenizer = GPT2Tokenizer.from_pretrained(config.model_name)\n",
    "\n",
    "# Add padding token if not already present\n",
    "if tokenizer.pad_token is None:\n",
    "    tokenizer.add_special_tokens({\"pad_token\": \"[PAD]\"})\n",
    "\n",
    "vocab_size = len(tokenizer)"
   ]
  },
  {
   "cell_type": "code",
   "execution_count": 7,
   "metadata": {},
   "outputs": [],
   "source": [
    "# Dataset class\n",
    "class TextDataset(Dataset):\n",
    "    def __init__(self, texts, tokenizer, max_length):\n",
    "        self.texts = texts\n",
    "        self.tokenizer = tokenizer\n",
    "        self.max_length = max_length\n",
    "        \n",
    "    def __len__(self):\n",
    "        return len(self.texts)\n",
    "    \n",
    "    def shuffle(self):\n",
    "        np.random.shuffle(self.texts)\n",
    "        \n",
    "    def sort_by_length(self):\n",
    "        self.texts.sort(key=lambda x: len(x))\n",
    "        \n",
    "    def __getitem__(self, idx):\n",
    "        text = self.texts[idx]\n",
    "\n",
    "        # Create encoding\n",
    "        encoding = self.tokenizer(\n",
    "            text,\n",
    "            max_length=self.max_length,\n",
    "            padding=\"max_length\",\n",
    "            truncation=True,\n",
    "            return_tensors=\"pt\"\n",
    "        )\n",
    "        return encoding.input_ids.squeeze()\n",
    "    "
   ]
  },
  {
   "cell_type": "code",
   "execution_count": 8,
   "metadata": {},
   "outputs": [],
   "source": [
    "# Model setup\n",
    "def get_model():\n",
    "    model = GPT2LMHeadModel.from_pretrained(config.model_name)\n",
    "    model.resize_token_embeddings(len(tokenizer))\n",
    "    model = model.to(device)\n",
    "    return model"
   ]
  },
  {
   "cell_type": "code",
   "execution_count": 9,
   "metadata": {},
   "outputs": [],
   "source": [
    "# Loss computation\n",
    "def compute_loss(model, dataloader):\n",
    "    model.eval()\n",
    "    total_loss = 0.0\n",
    "    total_items = 0\n",
    "    \n",
    "    with torch.no_grad():\n",
    "        for batch in dataloader:\n",
    "            batch = batch.to(device)\n",
    "            outputs = model(batch, labels=batch)\n",
    "            loss = outputs.loss\n",
    "            total_loss += loss.item() * batch.size(0)  # Sum losses\n",
    "            total_items += batch.size(0)  # Count items\n",
    "    \n",
    "    # Check empty dataloader\n",
    "    if total_items == 0:\n",
    "        return float('nan'), float('nan')  \n",
    "    \n",
    "    avg_loss = total_loss / total_items  # Average loss per item\n",
    "    perplexity = torch.exp(torch.tensor(avg_loss)).item()  # Perplexity\n",
    "    \n",
    "    return avg_loss, perplexity"
   ]
  },
  {
   "cell_type": "code",
   "execution_count": 10,
   "metadata": {},
   "outputs": [],
   "source": [
    "# Training function\n",
    "def train_epoch(model, dataloader, optimizer, shuffle_mode='random'):\n",
    "    model.train()\n",
    "    total_loss = 0\n",
    "    \n",
    "    if shuffle_mode == 'random':\n",
    "        dataloader.dataset.shuffle()\n",
    "    elif shuffle_mode == 'sorted':\n",
    "        dataloader.dataset.sort_by_length()\n",
    "    \n",
    "    for batch in tqdm(dataloader, desc=\"Training\", leave=False):\n",
    "        batch = batch.to(device)\n",
    "        optimizer.zero_grad()\n",
    "\n",
    "        # Forward pass\n",
    "        outputs = model(batch, labels=batch)\n",
    "        \n",
    "        # Compute loss and backpropagation\n",
    "        loss = outputs.loss\n",
    "        loss.backward()\n",
    "\n",
    "        optimizer.step()\n",
    "        total_loss += loss.item()\n",
    "    \n",
    "    return total_loss / len(dataloader)"
   ]
  },
  {
   "cell_type": "code",
   "execution_count": 11,
   "metadata": {},
   "outputs": [],
   "source": [
    "# Experiment runner\n",
    "def run_experiment(optimizer_class, lr, batch_size, epochs=5, shuffle_mode='random'):\n",
    "    # Load data\n",
    "    train_texts, val_texts, _ = load_and_preprocess_data()\n",
    "    \n",
    "    # Create datasets\n",
    "    train_dataset = TextDataset(train_texts, tokenizer, config.max_length)\n",
    "    val_dataset = TextDataset(val_texts, tokenizer, config.max_length)\n",
    "    \n",
    "    # Create dataloaders\n",
    "    train_loader = DataLoader(\n",
    "        train_dataset,\n",
    "        batch_size=batch_size,\n",
    "        shuffle=False,\n",
    "        num_workers=config.num_workers,\n",
    "        pin_memory=config.pin_memory\n",
    "    )\n",
    "    val_loader = DataLoader(\n",
    "        val_dataset,\n",
    "        batch_size=batch_size,\n",
    "        shuffle=False,\n",
    "        num_workers=config.num_workers,\n",
    "        pin_memory=config.pin_memory\n",
    "    )\n",
    "    \n",
    "    # Initialize model\n",
    "    model = get_model()\n",
    "    optimizer = optimizer_class(model.parameters(), lr=lr)\n",
    "    \n",
    "    # Training loop\n",
    "    train_losses = []\n",
    "    val_losses = []\n",
    "    \n",
    "    for epoch in range(epochs):\n",
    "        train_loss = train_epoch(model, train_loader, optimizer, shuffle_mode)\n",
    "        val_loss, val_perplexity = compute_loss(model, val_loader)\n",
    "        \n",
    "        train_losses.append(train_loss)\n",
    "        val_losses.append(val_loss)\n",
    "        \n",
    "        print(f\"Epoch {epoch+1}/{epochs} - Train Loss: {train_loss:.4f}, Val Loss: {val_loss:.4f}, Val Perplexity: {val_perplexity:.2f}\")\n",
    "    \n",
    "    results = {\n",
    "        'train_loss': train_losses[-1],\n",
    "        'val_loss': val_losses[-1],\n",
    "        'val_perplexity': val_perplexity,\n",
    "        'optimizer': optimizer_class.__name__,\n",
    "        'lr': lr,\n",
    "        'batch_size': batch_size,\n",
    "        'shuffle_mode': shuffle_mode,\n",
    "        'train_loss_history': train_losses,\n",
    "        'val_loss_history': val_losses\n",
    "    }\n",
    "    \n",
    "    return results"
   ]
  },
  {
   "cell_type": "code",
   "execution_count": 12,
   "metadata": {},
   "outputs": [],
   "source": [
    "def plot_loss_curves(results_list):\n",
    "    plt.figure(figsize=(12, 6))\n",
    "    for results in results_list:\n",
    "        label = f\"{results['optimizer']}, lr={results['lr']}, bs={results['batch_size']}\"\n",
    "        plt.plot(results['train_loss_history'], label=f\"Train - {label}\")\n",
    "        plt.plot(results['val_loss_history'], '--', label=f\"Val - {label}\")\n",
    "    \n",
    "    plt.xlabel(\"Epoch\")\n",
    "    plt.ylabel(\"Loss\")\n",
    "    plt.title(\"Training and Validation Loss Curves\")\n",
    "    plt.legend()\n",
    "    plt.grid()\n",
    "    plt.show()"
   ]
  },
  {
   "cell_type": "code",
   "execution_count": 13,
   "metadata": {},
   "outputs": [
    {
     "name": "stdout",
     "output_type": "stream",
     "text": [
      "\n",
      "Running experiment with SGD, lr=0.01, bs=8, shuffle=random\n"
     ]
    },
    {
     "name": "stderr",
     "output_type": "stream",
     "text": [
      "The new embeddings will be initialized from a multivariate normal distribution that has old embeddings' mean and covariance. As described in this article: https://nlp.stanford.edu/~johnhew/vocab-expansion.html. To disable this, use `mean_resizing=False`\n",
      "Training:   0%|          | 0/125 [00:00<?, ?it/s]`loss_type=None` was set in the config but it is unrecognised.Using the default loss: `ForCausalLMLoss`.\n",
      "                                                           \r"
     ]
    },
    {
     "name": "stdout",
     "output_type": "stream",
     "text": [
      "Epoch 1/5 - Train Loss: 7.4010, Val Loss: 5.0134, Val Perplexity: 150.42\n"
     ]
    },
    {
     "name": "stderr",
     "output_type": "stream",
     "text": [
      "                                                           \r"
     ]
    },
    {
     "name": "stdout",
     "output_type": "stream",
     "text": [
      "Epoch 2/5 - Train Loss: 4.9196, Val Loss: 3.5307, Val Perplexity: 34.15\n"
     ]
    },
    {
     "name": "stderr",
     "output_type": "stream",
     "text": [
      "                                                           \r"
     ]
    },
    {
     "name": "stdout",
     "output_type": "stream",
     "text": [
      "Epoch 3/5 - Train Loss: 3.8552, Val Loss: 3.1152, Val Perplexity: 22.54\n"
     ]
    },
    {
     "name": "stderr",
     "output_type": "stream",
     "text": [
      "                                                           \r"
     ]
    },
    {
     "name": "stdout",
     "output_type": "stream",
     "text": [
      "Epoch 4/5 - Train Loss: 3.5135, Val Loss: 2.9891, Val Perplexity: 19.87\n"
     ]
    },
    {
     "name": "stderr",
     "output_type": "stream",
     "text": [
      "                                                           \r"
     ]
    },
    {
     "name": "stdout",
     "output_type": "stream",
     "text": [
      "Epoch 5/5 - Train Loss: 3.3745, Val Loss: 2.9723, Val Perplexity: 19.54\n"
     ]
    },
    {
     "data": {
      "image/png": "[encoded data removed]",
      "text/plain": [
       "<Figure size 1200x600 with 1 Axes>"
      ]
     },
     "metadata": {},
     "output_type": "display_data"
    },
    {
     "name": "stdout",
     "output_type": "stream",
     "text": [
      "\n",
      "Experiment Summary:\n",
      "\n",
      "Optimizer: SGD\n",
      "LR: 0.01, Batch Size: 8, Shuffle: random\n",
      "Final Train Loss: 3.3745, Val Loss: 2.9723\n"
     ]
    }
   ],
   "source": [
    "# Main experiment\n",
    "def main():\n",
    "    # Define experiments to run\n",
    "    experiments = [\n",
    "        {'optimizer_class': torch.optim.SGD, 'lr': 0.01, 'batch_size': 8, 'shuffle_mode': 'random'},\n",
    "        # {'optimizer_class': torch.optim.SGD, 'lr': 0.01, 'batch_size': 8, 'shuffle_mode': 'sorted'},\n",
    "        # {'optimizer_class': torch.optim.Adam, 'lr': 0.001, 'batch_size': 8, 'shuffle_mode': 'random'},\n",
    "        # {'optimizer_class': torch.optim.Adam, 'lr': 0.001, 'batch_size': 8, 'shuffle_mode': 'sorted'},\n",
    "        # {'optimizer_class': torch.optim.AdamW, 'lr': 0.0001, 'batch_size': 8, 'shuffle_mode': 'random'},\n",
    "    ]\n",
    "    \n",
    "    results_list = []\n",
    "    \n",
    "    for exp in experiments:\n",
    "        print(f\"\\nRunning experiment with {exp['optimizer_class'].__name__}, lr={exp['lr']}, bs={exp['batch_size']}, shuffle={exp['shuffle_mode']}\")\n",
    "        results = run_experiment(\n",
    "            optimizer_class=exp['optimizer_class'],\n",
    "            lr=exp['lr'],\n",
    "            batch_size=exp['batch_size'],\n",
    "            shuffle_mode=exp['shuffle_mode']\n",
    "        )\n",
    "        results_list.append(results)\n",
    "    \n",
    "    # Save results\n",
    "    torch.save(results_list, 'experiment_results.pt')\n",
    "    \n",
    "    # Plot results\n",
    "    plot_loss_curves(results_list)\n",
    "    \n",
    "    # Print summary\n",
    "    print(\"\\nExperiment Summary:\")\n",
    "    for res in results_list:\n",
    "        print(f\"\\nOptimizer: {res['optimizer']}\")\n",
    "        print(f\"LR: {res['lr']}, Batch Size: {res['batch_size']}, Shuffle: {res['shuffle_mode']}\")\n",
    "        print(f\"Final Train Loss: {res['train_loss']:.4f}, Val Loss: {res['val_loss']:.4f}\")\n",
    "\n",
    "if __name__ == \"__main__\":\n",
    "    main()"
   ]
  }
 ],
 "metadata": {
  "kernelspec": {
   "display_name": "cs439",
   "language": "python",
   "name": "python3"
  },
  "language_info": {
   "codemirror_mode": {
    "name": "ipython",
    "version": 3
   },
   "file_extension": ".py",
   "mimetype": "text/x-python",
   "name": "python",
   "nbconvert_exporter": "python",
   "pygments_lexer": "ipython3",
   "version": "3.12.9"
  }
 },
 "nbformat": 4,
 "nbformat_minor": 2
}
