{
 "cells": [
  {
   "cell_type": "markdown",
   "id": "098ad6b6",
   "metadata": {},
   "source": [
    "### Configuration"
   ]
  },
  {
   "cell_type": "code",
   "execution_count": null,
   "id": "e7660fd5",
   "metadata": {},
   "outputs": [],
   "source": [
    "import os\n",
    "# Set the environment variable for CUDA devices\n",
    "os.environ[\"CUDA_VISIBLE_DEVICES\"] = \"3\"\n",
    "os.environ[\"PYTORCH_CUDA_ALLOC_CONF\"] = \"expandable_segments:True\"\n",
    "!export CUDA_VISIBLE_DEVICES=3\n",
    "\n",
    "import warnings\n",
    "import torch\n",
    "from optimization.experiments import run_experiment, plot_experiment, calc_sharpness\n",
    "from utils.config_loader import load_config\n",
    "from utils.plots import plot_loss_curves\n",
    "from utils.misc import set_seed, create_loaders\n",
    "\n",
    "# Suppress warnings\n",
    "warnings.filterwarnings(\"ignore\", category=UserWarning, message=\".*?.*\")\n",
    "warnings.filterwarnings(\"ignore\", category=FutureWarning, message=\".*torch\\.backends\\.cuda\\.sdp_kernel.*\")\n",
    "\n",
    "# Load config\n",
    "config = load_config(\"config/base.yaml\")\n",
    "\n",
    "# Device setup\n",
    "config.device = torch.device(\"cuda\" if torch.cuda.is_available() else \"cpu\")\n",
    "\n",
    "# Set random seed for reproducibility\n",
    "set_seed(42)\n",
    "\n",
    "# Set a default number of epochs for experiments\n",
    "EPOCHS = 60\n",
    "\n",
    "# Create the results directory if it doesn't exist\n",
    "os.makedirs(\"exp_results\", exist_ok=True)"
   ]
  },
  {
   "cell_type": "markdown",
   "id": "1c94067c",
   "metadata": {},
   "source": [
    "### Experiments"
   ]
  },
  {
   "cell_type": "markdown",
   "id": "dc511ad4",
   "metadata": {},
   "source": [
    "#### 1) Batch Size"
   ]
  },
  {
   "cell_type": "code",
   "execution_count": null,
   "id": "fe436c7d",
   "metadata": {},
   "outputs": [],
   "source": [
    "# Clear CUDA cache\n",
    "torch.cuda.empty_cache()\n",
    "\n",
    "# Define BS experiments\n",
    "experiments = [\n",
    "    {'optimizer_class': torch.optim.SGD, 'lr': 0.001, 'batch_size': 4, 'shuffle_mode': 'random', 'weight_decay': 0.0005},\n",
    "    {'optimizer_class': torch.optim.SGD, 'lr': 0.001, 'batch_size': 24, 'shuffle_mode': 'random', 'weight_decay': 0.0005},\n",
    "]\n",
    "\n",
    "# Initialize results and models list\n",
    "results_list = []\n",
    "models_list = []\n",
    "models_names = []\n",
    "    \n",
    "# Run experiments\n",
    "for exp in experiments:\n",
    "    print(f\"\\nRunning experiment with {exp['optimizer_class'].__name__}, lr={exp['lr']}, bs={exp['batch_size']}, shuffle={exp['shuffle_mode']}, wd: {exp['weight_decay']}\")\n",
    "    \n",
    "    results, model = run_experiment(\n",
    "            config=config,\n",
    "            optimizer_class=exp['optimizer_class'],\n",
    "            lr=exp['lr'],\n",
    "            weight_decay=exp['weight_decay'],\n",
    "            batch_size=exp['batch_size'],\n",
    "            epochs=EPOCHS,\n",
    "            shuffle_mode=exp['shuffle_mode'],\n",
    "        )\n",
    "    \n",
    "    results_list.append(results)\n",
    "    models_list.append(model)\n",
    "\n",
    "    # Generate a consistent filename\n",
    "    fname = f\"{exp['optimizer_class'].__name__}_{exp['lr']}_{exp['batch_size']}_{exp['shuffle_mode']}_{exp['weight_decay']}\"\n",
    "\n",
    "    # Save model state dict\n",
    "    torch.save(model.state_dict(), f\"exp_results/model_params_{fname}.pt\")\n",
    "    models_names.append(f\"exp_results/model_params_{fname}.pt\")\n",
    "\n",
    "    # Save results dict\n",
    "    torch.save(results, f\"exp_results/results_{fname}.pt\")\n",
    "\n",
    "# Plot loss curves with named output\n",
    "if len(experiments) == 1:\n",
    "    exp = experiments[0]\n",
    "    fname = f\"{exp['optimizer_class'].__name__}_{exp['lr']}_{exp['batch_size']}_{exp['shuffle_mode']}_{exp['weight_decay']}\"\n",
    "else:\n",
    "    fname = \"multiple_experiments\"\n",
    "\n",
    "plot_loss_curves(results_list, save_path=\"exp_plots\", fname=fname)\n",
    "\n",
    "# Print exepriment summary\n",
    "print(\"\\nExperiments Summary:\")\n",
    "for res in results_list:\n",
    "    print(f\"\\nOptimizer: {res['optimizer']}\")\n",
    "    print(f\"LR: {res['lr']}, Shuffle: {res['shuffle_mode']}, Batch Size: {res['batch_size']}, Weight Decay: {res['weight_decay']}\")\n",
    "    print(f\"Final Train Loss: {res['train_loss']:.4f}, Val Loss: {res['val_loss']:.4f}\")\n"
   ]
  },
  {
   "cell_type": "code",
   "execution_count": null,
   "id": "17fbc468",
   "metadata": {},
   "outputs": [],
   "source": [
    "# Crete loaders for plotting\n",
    "train_loader, val_loader, _ = create_loaders(config) \n",
    "\n",
    "# Define paths for plotting\n",
    "PATH = './exp_plots/'\n",
    "paths = [PATH + f\"segment_{models_names[0][:-3]}_{models_names[1][:-3]}.png\",\n",
    "        PATH + f\"2D_plot_{models_names[0][:-3]}.png\",\n",
    "        PATH + f\"2D_plot_{models_names[1][:-3]}.png\"]\n",
    "\n",
    "# Plot the experiment results\n",
    "plot_experiment(models_list[0], models_list[1], train_loader, val_loader, config.device, paths=paths)"
   ]
  },
  {
   "cell_type": "code",
   "execution_count": null,
   "id": "0bb82440",
   "metadata": {},
   "outputs": [],
   "source": [
    "for i, model in enumerate(models_list):\n",
    "    print(f\"\\nCalculating sharpness for model {i + 1} ({models_names[i]})...\")\n",
    "    sharpenss, hv_norm = calc_sharpness(model, train_loader, config.device)\n",
    "    print(f\"Model: {models_names[i]}, Sharpness: {sharpenss:.4f}%, HV Norm: {hv_norm:.4f} \\n\")"
   ]
  }
 ],
 "metadata": {
  "kernelspec": {
   "display_name": "cs439",
   "language": "python",
   "name": "python3"
  },
  "language_info": {
   "codemirror_mode": {
    "name": "ipython",
    "version": 3
   },
   "file_extension": ".py",
   "mimetype": "text/x-python",
   "name": "python",
   "nbconvert_exporter": "python",
   "pygments_lexer": "ipython3",
   "version": "3.12.9"
  }
 },
 "nbformat": 4,
 "nbformat_minor": 5
}
